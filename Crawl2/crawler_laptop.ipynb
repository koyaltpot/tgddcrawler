{
 "cells": [
  {
   "cell_type": "code",
   "execution_count": 1,
   "metadata": {},
   "outputs": [],
   "source": [
    "from selenium import webdriver\n",
    "\n",
    "import pandas as pd\n",
    "import numpy as np\n",
    "from bs4 import BeautifulSoup\n",
    "import json\n",
    "import codecs\n",
    "import time\n",
    "\n",
    "from selenium.webdriver.support.ui import WebDriverWait\n",
    "from selenium.webdriver.support import expected_conditions as EC\n",
    "from selenium.webdriver.common.by import By\n",
    "from selenium.common.exceptions import TimeoutException"
   ]
  },
  {
   "cell_type": "code",
   "execution_count": 2,
   "metadata": {},
   "outputs": [
    {
     "name": "stdout",
     "output_type": "stream",
     "text": [
      "{'name': 'MacBook Pro 14 inch M3 2023 10-core GPU', 'total_reviews': 'No reviews', 'total_stars': 'No rating'}\n"
     ]
    }
   ],
   "source": [
    "wd = webdriver.Firefox()\n",
    "\n",
    "url = \"https://www.thegioididong.com/laptop#c=44&o=17&pi=13\"\n",
    "wd.get(url)\n",
    "page = wd.page_source\n",
    "soup = BeautifulSoup(page, 'html.parser')\n",
    "# Tìm tất cả các sản phẩm\n",
    "def match_product_tag(tag):\n",
    "    return tag.name == 'li' and ('item ajaxed __cate_44' in tag.get('class', []) or 'item __cate_44' in tag.get('class', []))\n",
    "\n",
    "products = soup.find_all(match_product_tag)\n",
    "\n",
    "data = []\n",
    "\n",
    "for product in products:\n",
    "    # Tìm tên sản phẩm\n",
    "    name = product.find('h3').text.strip()\n",
    "\n",
    "    # Tìm tổng số lượng đánh giá\n",
    "    total_reviews_tag = product.find('p', class_='item-rating-total')\n",
    "    total_reviews = total_reviews_tag.text if total_reviews_tag else \"No reviews\"\n",
    "\n",
    "    # Tìm số sao đánh giá\n",
    "    rating_div = product.find('div', class_='item-rating')\n",
    "    if rating_div:\n",
    "        star = rating_div.find_all('i', class_='icon-star')\n",
    "        half_star = rating_div.find_all('i', class_='icon-star-half')\n",
    "        total_stars = len(star) + 0.5 * len(half_star)\n",
    "    else:\n",
    "        total_stars = \"No rating\"\n",
    "\n",
    "    # Thêm dữ liệu vào danh sách\n",
    "    data.append({\n",
    "        \"name\": name,\n",
    "        \"total_reviews\": total_reviews,\n",
    "        \"total_stars\": total_stars\n",
    "    })\n",
    "\n",
    "# In dữ liệu\n",
    "for item in data:\n",
    "    print(item)\n",
    "\n",
    "\n",
    "wd.close()"
   ]
  }
 ],
 "metadata": {
  "kernelspec": {
   "display_name": "Python 3",
   "language": "python",
   "name": "python3"
  },
  "language_info": {
   "codemirror_mode": {
    "name": "ipython",
    "version": 3
   },
   "file_extension": ".py",
   "mimetype": "text/x-python",
   "name": "python",
   "nbconvert_exporter": "python",
   "pygments_lexer": "ipython3",
   "version": "3.12.1"
  }
 },
 "nbformat": 4,
 "nbformat_minor": 2
}
