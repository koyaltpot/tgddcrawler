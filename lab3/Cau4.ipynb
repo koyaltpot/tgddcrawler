{
 "cells": [
  {
   "cell_type": "code",
   "execution_count": 9,
   "metadata": {},
   "outputs": [
    {
     "name": "stdout",
     "output_type": "stream",
     "text": [
      "Giá nhà với diện tích 55 m2 được dự đoán là: 829.55\n"
     ]
    },
    {
     "name": "stderr",
     "output_type": "stream",
     "text": [
      "c:\\Users\\DangHuynh\\AppData\\Local\\Programs\\Python\\Python312\\Lib\\site-packages\\sklearn\\base.py:465: UserWarning: X does not have valid feature names, but LinearRegression was fitted with feature names\n",
      "  warnings.warn(\n"
     ]
    }
   ],
   "source": [
    "import pandas as pd\n",
    "from sklearn.linear_model import LinearRegression\n",
    "\n",
    "# Tạo DataFrame từ dữ liệu bạn đã cung cấp\n",
    "data = \"https://raw.githubusercontent.com/ltdaovn/dataset/master/housing2.csv\"\n",
    "df = pd.read_csv(data)\n",
    "\n",
    "# Xây dựng mô hình hồi quy tuyến tính\n",
    "lm = LinearRegression()\n",
    "lm.fit(df[['Diện tích']], df['Giá'])\n",
    "\n",
    "# Dự đoán giá nhà với diện tích là 55m2\n",
    "dien_tich = 55\n",
    "gia_nha = lm.predict([[dien_tich]])\n",
    "\n",
    "print(f\"Giá nhà với diện tích {dien_tich} m2 được dự đoán là: {gia_nha[0]:.2f}\")\n",
    "\n"
   ]
  }
 ],
 "metadata": {
  "kernelspec": {
   "display_name": "Python 3",
   "language": "python",
   "name": "python3"
  },
  "language_info": {
   "codemirror_mode": {
    "name": "ipython",
    "version": 3
   },
   "file_extension": ".py",
   "mimetype": "text/x-python",
   "name": "python",
   "nbconvert_exporter": "python",
   "pygments_lexer": "ipython3",
   "version": "3.12.2"
  }
 },
 "nbformat": 4,
 "nbformat_minor": 2
}
