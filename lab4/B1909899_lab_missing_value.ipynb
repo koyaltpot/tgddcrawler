{
  "cells": [
    {
      "cell_type": "markdown",
      "metadata": {},
      "source": [
        "# Bài tập cơ bản"
      ]
    },
    {
      "cell_type": "code",
      "execution_count": 20,
      "metadata": {
        "id": "WVnffqSGmeKv"
      },
      "outputs": [
        {
          "name": "stdout",
          "output_type": "stream",
          "text": [
            "                   name class1  mark     sex\n",
            "id                                          \n",
            "1.0      Angelina Jolie   Four  75.0  female\n",
            "2.0   Cristiano Ronaldo  Three  85.0    male\n",
            "NaN           John Wick  Three  55.0    male\n",
            "4.0           Lady Gaga   Four  60.0  female\n",
            "NaN          Emma Stone   Four  60.0  female\n",
            "6.0             Alex Jo   Four  55.0     NaN\n",
            "7.0        Lionel Messi   Five  78.0    male\n",
            "NaN                 NaN    NaN   NaN     NaN\n",
            "9.0       Thierry Henry    Six  78.0    male\n",
            "10.0                NaN   Four  55.0  female\n",
            "11.0   Callie Hernandez    Six   NaN  female\n",
            "12.0      Jessica Rothe    Six  94.0  female\n",
            "13.0                Ron    NaN  55.0     NaN\n",
            "14.0               King    NaN   NaN     NaN\n"
          ]
        }
      ],
      "source": [
        "import pandas as pd\n",
        "import numpy as np\n",
        "\n",
        "df = pd.read_excel(\"https://github.com/ltdaovn/dataset/blob/master/student.xlsx?raw=true\", index_col='id')\n",
        "print(df)"
      ]
    },
    {
      "cell_type": "code",
      "execution_count": 22,
      "metadata": {
        "id": "PNGDwouLm-3J"
      },
      "outputs": [
        {
          "name": "stdout",
          "output_type": "stream",
          "text": [
            "                   name class1  mark     sex\n",
            "id                                          \n",
            "1.0      Angelina Jolie   Four  75.0  female\n",
            "2.0   Cristiano Ronaldo  Three  85.0    male\n",
            "NaN           John Wick  Three  55.0    male\n",
            "4.0           Lady Gaga   Four  60.0  female\n",
            "NaN          Emma Stone   Four  60.0  female\n",
            "7.0        Lionel Messi   Five  78.0    male\n",
            "9.0       Thierry Henry    Six  78.0    male\n",
            "12.0      Jessica Rothe    Six  94.0  female\n"
          ]
        }
      ],
      "source": [
        "# Xóa các hàng có bất kỳ giá trị nào bị rỗng\n",
        "new_df= df.dropna()\n",
        "print(new_df)"
      ]
    },
    {
      "cell_type": "code",
      "execution_count": 21,
      "metadata": {
        "id": "yiRKnJrSpGeW"
      },
      "outputs": [
        {
          "name": "stdout",
          "output_type": "stream",
          "text": [
            "                   name class1  mark     sex\n",
            "id                                          \n",
            "1.0      Angelina Jolie   Four  75.0  female\n",
            "2.0   Cristiano Ronaldo  Three  85.0    male\n",
            "NaN           John Wick  Three  55.0    male\n",
            "4.0           Lady Gaga   Four  60.0  female\n",
            "NaN          Emma Stone   Four  60.0  female\n",
            "6.0             Alex Jo   Four  55.0     NaN\n",
            "7.0        Lionel Messi   Five  78.0    male\n",
            "9.0       Thierry Henry    Six  78.0    male\n",
            "10.0                NaN   Four  55.0  female\n",
            "11.0   Callie Hernandez    Six   NaN  female\n",
            "12.0      Jessica Rothe    Six  94.0  female\n",
            "13.0                Ron    NaN  55.0     NaN\n",
            "14.0               King    NaN   NaN     NaN\n"
          ]
        }
      ],
      "source": [
        "# Xóa các hàng có tất cả giá trị đều bị rỗng\n",
        "new_df=df.dropna(how='all')\n",
        "print(new_df)"
      ]
    },
    {
      "cell_type": "code",
      "execution_count": 23,
      "metadata": {
        "id": "f-IK9QYsqA6x"
      },
      "outputs": [
        {
          "name": "stdout",
          "output_type": "stream",
          "text": [
            "Empty DataFrame\n",
            "Columns: []\n",
            "Index: [1.0, 2.0, nan, 4.0, nan, 6.0, 7.0, nan, 9.0, 10.0, 11.0, 12.0, 13.0, 14.0]\n"
          ]
        }
      ],
      "source": [
        "# Xóa các cột có bất kỳ giá trị nào bị rỗng\n",
        "new_df=df.dropna(axis=1, how='any')\n",
        "print(new_df)"
      ]
    },
    {
      "cell_type": "code",
      "execution_count": 24,
      "metadata": {
        "id": "jB9QTiwMovfs"
      },
      "outputs": [
        {
          "name": "stdout",
          "output_type": "stream",
          "text": [
            "                   name class1  mark     sex\n",
            "id                                          \n",
            "1.0      Angelina Jolie   Four  75.0  female\n",
            "2.0   Cristiano Ronaldo  Three  85.0    male\n",
            "NaN           John Wick  Three  55.0    male\n",
            "4.0           Lady Gaga   Four  60.0  female\n",
            "NaN          Emma Stone   Four  60.0  female\n",
            "6.0             Alex Jo   Four  55.0     NaN\n",
            "7.0        Lionel Messi   Five  78.0    male\n",
            "NaN                 NaN    NaN   NaN     NaN\n",
            "9.0       Thierry Henry    Six  78.0    male\n",
            "10.0                NaN   Four  55.0  female\n",
            "11.0   Callie Hernandez    Six   NaN  female\n",
            "12.0      Jessica Rothe    Six  94.0  female\n",
            "13.0                Ron    NaN  55.0     NaN\n",
            "14.0               King    NaN   NaN     NaN\n"
          ]
        }
      ],
      "source": [
        "# Xóa các cột có tất cả giá trị đều bị rỗng\n",
        "new_df = df.dropna(axis=1, how='all')\n",
        "print(new_df)"
      ]
    },
    {
      "cell_type": "code",
      "execution_count": 25,
      "metadata": {
        "id": "iR8JSF6AqvpC"
      },
      "outputs": [
        {
          "name": "stdout",
          "output_type": "stream",
          "text": [
            "                   name class1  mark     sex\n",
            "id                                          \n",
            "1.0      Angelina Jolie   Four  75.0  female\n",
            "2.0   Cristiano Ronaldo  Three  85.0    male\n",
            "NaN           John Wick  Three  55.0    male\n",
            "4.0           Lady Gaga   Four  60.0  female\n",
            "NaN          Emma Stone   Four  60.0  female\n",
            "6.0             Alex Jo   Four  55.0     NaN\n",
            "7.0        Lionel Messi   Five  78.0    male\n",
            "9.0       Thierry Henry    Six  78.0    male\n",
            "10.0                NaN   Four  55.0  female\n",
            "11.0   Callie Hernandez    Six   NaN  female\n",
            "12.0      Jessica Rothe    Six  94.0  female\n",
            "13.0                Ron    NaN  55.0     NaN\n"
          ]
        }
      ],
      "source": [
        "# Chỉ giữ lại các hàng có từ 2 dữ liệu hợp lệ trở lên\n",
        "new_df = df.dropna(thresh=2)\n",
        "print(new_df)"
      ]
    },
    {
      "cell_type": "code",
      "execution_count": 26,
      "metadata": {
        "id": "a_gZnDDiu4uZ"
      },
      "outputs": [
        {
          "name": "stdout",
          "output_type": "stream",
          "text": [
            "                   name class1  mark     sex\n",
            "id                                          \n",
            "1.0      Angelina Jolie   Four  75.0  female\n",
            "2.0   Cristiano Ronaldo  Three  85.0    male\n",
            "NaN           John Wick  Three  55.0    male\n",
            "4.0           Lady Gaga   Four  60.0  female\n",
            "NaN          Emma Stone   Four  60.0  female\n",
            "6.0             Alex Jo   Four  55.0     NaN\n",
            "7.0        Lionel Messi   Five  78.0    male\n",
            "9.0       Thierry Henry    Six  78.0    male\n",
            "10.0                NaN   Four  55.0  female\n",
            "11.0   Callie Hernandez    Six   NaN  female\n",
            "12.0      Jessica Rothe    Six  94.0  female\n"
          ]
        }
      ],
      "source": [
        "# Chỉ giữ lại các hàng có từ 3 dữ liệu hợp lệ trở lên\n",
        "new_df = df.dropna(thresh=3)\n",
        "print(new_df)"
      ]
    },
    {
      "cell_type": "code",
      "execution_count": 27,
      "metadata": {
        "id": "Aq3qvSf3vwsu"
      },
      "outputs": [
        {
          "name": "stdout",
          "output_type": "stream",
          "text": [
            "                   name class1  mark\n",
            "id                                  \n",
            "1.0      Angelina Jolie   Four  75.0\n",
            "2.0   Cristiano Ronaldo  Three  85.0\n",
            "NaN           John Wick  Three  55.0\n",
            "4.0           Lady Gaga   Four  60.0\n",
            "NaN          Emma Stone   Four  60.0\n",
            "6.0             Alex Jo   Four  55.0\n",
            "7.0        Lionel Messi   Five  78.0\n",
            "NaN                 NaN    NaN   NaN\n",
            "9.0       Thierry Henry    Six  78.0\n",
            "10.0                NaN   Four  55.0\n",
            "11.0   Callie Hernandez    Six   NaN\n",
            "12.0      Jessica Rothe    Six  94.0\n",
            "13.0                Ron    NaN  55.0\n",
            "14.0               King    NaN   NaN\n"
          ]
        }
      ],
      "source": [
        "# Chỉ giữ lại các cột có từ 11 dữ liệu hợp lệ\n",
        "new_df = df.dropna(thresh=11, axis=1)\n",
        "print(new_df)\n"
      ]
    },
    {
      "cell_type": "code",
      "execution_count": 29,
      "metadata": {
        "id": "muuL2LPs1uuT"
      },
      "outputs": [
        {
          "name": "stdout",
          "output_type": "stream",
          "text": [
            "                   name class1  mark     sex\n",
            "id                                          \n",
            "1.0      Angelina Jolie   Four  75.0  female\n",
            "2.0   Cristiano Ronaldo  Three  85.0    male\n",
            "NaN           John Wick  Three  55.0    male\n",
            "4.0           Lady Gaga   Four  60.0  female\n",
            "NaN          Emma Stone   Four  60.0  female\n",
            "6.0             Alex Jo   Four  55.0     NaN\n",
            "7.0        Lionel Messi   Five  78.0    male\n",
            "9.0       Thierry Henry    Six  78.0    male\n",
            "10.0                NaN   Four  55.0  female\n",
            "11.0   Callie Hernandez    Six   NaN  female\n",
            "12.0      Jessica Rothe    Six  94.0  female\n"
          ]
        }
      ],
      "source": [
        "# Chỉ giữ lại các hàng có 70% dữ liệu hợp lệ trở lên\n",
        "new_df = df.dropna(thresh=df.shape[1]*0.7)\n",
        "print(new_df)"
      ]
    },
    {
      "cell_type": "code",
      "execution_count": 31,
      "metadata": {
        "id": "iCn1zCkX2FW9"
      },
      "outputs": [
        {
          "name": "stdout",
          "output_type": "stream",
          "text": [
            "                   name class1  mark     sex\n",
            "id                                          \n",
            "1.0      Angelina Jolie   Four  75.0  female\n",
            "2.0   Cristiano Ronaldo  Three  85.0    male\n",
            "NaN           John Wick  Three  55.0    male\n",
            "4.0           Lady Gaga   Four  60.0  female\n",
            "NaN          Emma Stone   Four  60.0  female\n",
            "6.0             Alex Jo   Four  55.0     NaN\n",
            "7.0        Lionel Messi   Five  78.0    male\n",
            "NaN                 NaN    NaN   NaN     NaN\n",
            "9.0       Thierry Henry    Six  78.0    male\n",
            "10.0                NaN   Four  55.0  female\n",
            "11.0   Callie Hernandez    Six   NaN  female\n",
            "12.0      Jessica Rothe    Six  94.0  female\n",
            "13.0                Ron    NaN  55.0     NaN\n",
            "14.0               King    NaN   NaN     NaN\n"
          ]
        }
      ],
      "source": [
        "#Chỉ giữ lại các cột có 80% dữ liệu hợp lệ trở lên\n",
        "new_df = df.dropna(axis=1,thresh=df.shape[1]*0.8)\n",
        "print(new_df)"
      ]
    },
    {
      "cell_type": "markdown",
      "metadata": {},
      "source": [
        "# Bài tập nâng cao"
      ]
    },
    {
      "cell_type": "code",
      "execution_count": 38,
      "metadata": {},
      "outputs": [
        {
          "data": {
            "text/html": [
              "<div>\n",
              "<style scoped>\n",
              "    .dataframe tbody tr th:only-of-type {\n",
              "        vertical-align: middle;\n",
              "    }\n",
              "\n",
              "    .dataframe tbody tr th {\n",
              "        vertical-align: top;\n",
              "    }\n",
              "\n",
              "    .dataframe thead th {\n",
              "        text-align: right;\n",
              "    }\n",
              "</style>\n",
              "<table border=\"1\" class=\"dataframe\">\n",
              "  <thead>\n",
              "    <tr style=\"text-align: right;\">\n",
              "      <th></th>\n",
              "      <th>MSSubClass</th>\n",
              "      <th>LotFrontage</th>\n",
              "      <th>LotArea</th>\n",
              "      <th>OverallQual</th>\n",
              "      <th>OverallCond</th>\n",
              "      <th>YearBuilt</th>\n",
              "      <th>YearRemodAdd</th>\n",
              "      <th>MasVnrArea</th>\n",
              "      <th>BsmtFinSF1</th>\n",
              "      <th>BsmtFinSF2</th>\n",
              "      <th>...</th>\n",
              "      <th>GarageArea</th>\n",
              "      <th>WoodDeckSF</th>\n",
              "      <th>OpenPorchSF</th>\n",
              "      <th>EnclosedPorch</th>\n",
              "      <th>3SsnPorch</th>\n",
              "      <th>ScreenPorch</th>\n",
              "      <th>PoolArea</th>\n",
              "      <th>MiscVal</th>\n",
              "      <th>MoSold</th>\n",
              "      <th>YrSold</th>\n",
              "    </tr>\n",
              "    <tr>\n",
              "      <th>Id</th>\n",
              "      <th></th>\n",
              "      <th></th>\n",
              "      <th></th>\n",
              "      <th></th>\n",
              "      <th></th>\n",
              "      <th></th>\n",
              "      <th></th>\n",
              "      <th></th>\n",
              "      <th></th>\n",
              "      <th></th>\n",
              "      <th></th>\n",
              "      <th></th>\n",
              "      <th></th>\n",
              "      <th></th>\n",
              "      <th></th>\n",
              "      <th></th>\n",
              "      <th></th>\n",
              "      <th></th>\n",
              "      <th></th>\n",
              "      <th></th>\n",
              "      <th></th>\n",
              "    </tr>\n",
              "  </thead>\n",
              "  <tbody>\n",
              "    <tr>\n",
              "      <th>619</th>\n",
              "      <td>20</td>\n",
              "      <td>90.0</td>\n",
              "      <td>11694</td>\n",
              "      <td>9</td>\n",
              "      <td>5</td>\n",
              "      <td>2007</td>\n",
              "      <td>2007</td>\n",
              "      <td>452.0</td>\n",
              "      <td>48</td>\n",
              "      <td>0</td>\n",
              "      <td>...</td>\n",
              "      <td>774</td>\n",
              "      <td>0</td>\n",
              "      <td>108</td>\n",
              "      <td>0</td>\n",
              "      <td>0</td>\n",
              "      <td>260</td>\n",
              "      <td>0</td>\n",
              "      <td>0</td>\n",
              "      <td>7</td>\n",
              "      <td>2007</td>\n",
              "    </tr>\n",
              "    <tr>\n",
              "      <th>871</th>\n",
              "      <td>20</td>\n",
              "      <td>60.0</td>\n",
              "      <td>6600</td>\n",
              "      <td>5</td>\n",
              "      <td>5</td>\n",
              "      <td>1962</td>\n",
              "      <td>1962</td>\n",
              "      <td>0.0</td>\n",
              "      <td>0</td>\n",
              "      <td>0</td>\n",
              "      <td>...</td>\n",
              "      <td>308</td>\n",
              "      <td>0</td>\n",
              "      <td>0</td>\n",
              "      <td>0</td>\n",
              "      <td>0</td>\n",
              "      <td>0</td>\n",
              "      <td>0</td>\n",
              "      <td>0</td>\n",
              "      <td>8</td>\n",
              "      <td>2009</td>\n",
              "    </tr>\n",
              "    <tr>\n",
              "      <th>93</th>\n",
              "      <td>30</td>\n",
              "      <td>80.0</td>\n",
              "      <td>13360</td>\n",
              "      <td>5</td>\n",
              "      <td>7</td>\n",
              "      <td>1921</td>\n",
              "      <td>2006</td>\n",
              "      <td>0.0</td>\n",
              "      <td>713</td>\n",
              "      <td>0</td>\n",
              "      <td>...</td>\n",
              "      <td>432</td>\n",
              "      <td>0</td>\n",
              "      <td>0</td>\n",
              "      <td>44</td>\n",
              "      <td>0</td>\n",
              "      <td>0</td>\n",
              "      <td>0</td>\n",
              "      <td>0</td>\n",
              "      <td>8</td>\n",
              "      <td>2009</td>\n",
              "    </tr>\n",
              "    <tr>\n",
              "      <th>818</th>\n",
              "      <td>20</td>\n",
              "      <td>NaN</td>\n",
              "      <td>13265</td>\n",
              "      <td>8</td>\n",
              "      <td>5</td>\n",
              "      <td>2002</td>\n",
              "      <td>2002</td>\n",
              "      <td>148.0</td>\n",
              "      <td>1218</td>\n",
              "      <td>0</td>\n",
              "      <td>...</td>\n",
              "      <td>857</td>\n",
              "      <td>150</td>\n",
              "      <td>59</td>\n",
              "      <td>0</td>\n",
              "      <td>0</td>\n",
              "      <td>0</td>\n",
              "      <td>0</td>\n",
              "      <td>0</td>\n",
              "      <td>7</td>\n",
              "      <td>2008</td>\n",
              "    </tr>\n",
              "    <tr>\n",
              "      <th>303</th>\n",
              "      <td>20</td>\n",
              "      <td>118.0</td>\n",
              "      <td>13704</td>\n",
              "      <td>7</td>\n",
              "      <td>5</td>\n",
              "      <td>2001</td>\n",
              "      <td>2002</td>\n",
              "      <td>150.0</td>\n",
              "      <td>0</td>\n",
              "      <td>0</td>\n",
              "      <td>...</td>\n",
              "      <td>843</td>\n",
              "      <td>468</td>\n",
              "      <td>81</td>\n",
              "      <td>0</td>\n",
              "      <td>0</td>\n",
              "      <td>0</td>\n",
              "      <td>0</td>\n",
              "      <td>0</td>\n",
              "      <td>1</td>\n",
              "      <td>2006</td>\n",
              "    </tr>\n",
              "  </tbody>\n",
              "</table>\n",
              "<p>5 rows × 36 columns</p>\n",
              "</div>"
            ],
            "text/plain": [
              "     MSSubClass  LotFrontage  LotArea  OverallQual  OverallCond  YearBuilt  \\\n",
              "Id                                                                           \n",
              "619          20         90.0    11694            9            5       2007   \n",
              "871          20         60.0     6600            5            5       1962   \n",
              "93           30         80.0    13360            5            7       1921   \n",
              "818          20          NaN    13265            8            5       2002   \n",
              "303          20        118.0    13704            7            5       2001   \n",
              "\n",
              "     YearRemodAdd  MasVnrArea  BsmtFinSF1  BsmtFinSF2  ...  GarageArea  \\\n",
              "Id                                                     ...               \n",
              "619          2007       452.0          48           0  ...         774   \n",
              "871          1962         0.0           0           0  ...         308   \n",
              "93           2006         0.0         713           0  ...         432   \n",
              "818          2002       148.0        1218           0  ...         857   \n",
              "303          2002       150.0           0           0  ...         843   \n",
              "\n",
              "     WoodDeckSF  OpenPorchSF  EnclosedPorch  3SsnPorch  ScreenPorch  PoolArea  \\\n",
              "Id                                                                              \n",
              "619           0          108              0          0          260         0   \n",
              "871           0            0              0          0            0         0   \n",
              "93            0            0             44          0            0         0   \n",
              "818         150           59              0          0            0         0   \n",
              "303         468           81              0          0            0         0   \n",
              "\n",
              "     MiscVal  MoSold  YrSold  \n",
              "Id                            \n",
              "619        0       7    2007  \n",
              "871        0       8    2009  \n",
              "93         0       8    2009  \n",
              "818        0       7    2008  \n",
              "303        0       1    2006  \n",
              "\n",
              "[5 rows x 36 columns]"
            ]
          },
          "execution_count": 38,
          "metadata": {},
          "output_type": "execute_result"
        }
      ],
      "source": [
        "# -*- coding: utf-8 -*-\n",
        "\n",
        "\"\"\"1. Bài tập về xử lý các trường hợp dữ liệu bị thiếu\n",
        "\n",
        "Trong bài tập này, chúng ta sẽ làm việc với bộ dữ liệu Housing Prices. \n",
        "\n",
        "Tập dữ liệu này có 79 giá trị mô tả (gần như) mọi khía cạnh của các căn nhà ở tại Ames, Iowa.\n",
        "Với tập dữ liệu này, chúng ta cần xây dựng mô hình để dự đoán giá của mỗi ngôi nhà.\n",
        "\n",
        "\"\"\"\n",
        "\n",
        "import pandas as pd\n",
        "from sklearn.model_selection import train_test_split\n",
        "\n",
        "# Đọc dữ liệu\n",
        "X_full = pd.read_csv('https://raw.githubusercontent.com/ltdaovn/dataset/master/housing-prices/train.csv',\n",
        "                     index_col='Id')\n",
        "X_test_full = pd.read_csv('https://raw.githubusercontent.com/ltdaovn/dataset/master/housing-prices/test.csv',\n",
        "                          index_col='Id')\n",
        "\n",
        "# Loại bỏ các căn nhà không có giá\n",
        "X_full.dropna(axis=0, subset=['SalePrice'], inplace=True)\n",
        "y = X_full.SalePrice\n",
        "X_full.drop(['SalePrice'], axis=1, inplace=True)\n",
        "\n",
        "# Để đơn giản bài toán, ở đây chúng ta chỉ chọn các thuộc tính số\n",
        "X = X_full.select_dtypes(exclude=['object'])\n",
        "X_test = X_test_full.select_dtypes(exclude=['object'])\n",
        "\n",
        "# Chia tập dữ liệu thành 2 tập dữ liệu con là training set và validation set\n",
        "X_train, X_valid, y_train, y_valid = train_test_split(X, y,\n",
        "                                                      train_size=0.8,\n",
        "                                                      test_size=0.2,\n",
        "                                                      random_state=0)\n",
        "\n",
        "# Xem các căn nhà đầu tiên trong tập dữ liệu huấn luyện. Chú ý các giá trị bị thiếu.\n",
        "X_train.head()"
      ]
    },
    {
      "cell_type": "code",
      "execution_count": 42,
      "metadata": {},
      "outputs": [
        {
          "name": "stdout",
          "output_type": "stream",
          "text": [
            "\n",
            "(1168, 36)\n",
            "LotFrontage    212\n",
            "MasVnrArea       6\n",
            "GarageYrBlt     58\n",
            "dtype: int64\n",
            "\n",
            "num_rows:\t\t 1168\n",
            "num_cols_with_missing:\t 3\n",
            "tot_missing:\t\t 276\n"
          ]
        }
      ],
      "source": [
        "\"\"\"\n",
        "# Bước 1: Làm quen với dữ liệu\n",
        "\"\"\"\n",
        "\n",
        "print()\n",
        "\n",
        "# Xem mô tả tập dữ liệu huấn luyện\n",
        "print(X_train.shape)\n",
        "\n",
        "# Số lượng dữ liệu bị thiếu trong các cột\n",
        "missing_val_count_by_column = X_train.isnull().sum()\n",
        "print(missing_val_count_by_column[missing_val_count_by_column > 0])\n",
        "\n",
        "print()\n",
        "\n",
        "# Hãy trả lời các câu hỏi sau đây?\n",
        "\n",
        "# Có bao nhiêu căn nhà trong tập dữ liệu huấn luyện?\n",
        "num_rows = len(X_train)\n",
        "print(\"num_rows:\\t\\t\", num_rows)\n",
        "\n",
        "# Có bao nhiêu cột dữ liệu bị thiếu?\n",
        "cols_with_missing = [col for col in X_train.columns if X_train[col].isna().any()]\n",
        "num_cols_with_missing = len(cols_with_missing)\n",
        "print(\"num_cols_with_missing:\\t\", num_cols_with_missing)\n",
        "\n",
        "# How many missing entries are contained in all of the training data?\n",
        "tot_missing = 0\n",
        "for col in X_train:\n",
        "    tot_missing = tot_missing + sum(X_train[col].isna())\n",
        "print(\"tot_missing:\\t\\t\", tot_missing)"
      ]
    },
    {
      "cell_type": "code",
      "execution_count": 43,
      "metadata": {},
      "outputs": [],
      "source": [
        "\"\"\"Bước 2: định nghĩa hàm để đo chất lượng của từng phương pháp\n",
        "\n",
        "Để so sánh chất lượng của các phương pháp, chúng ta cần định nghĩa hàm score_dataset() . \n",
        "Hàm được sử dụng trong ví dụ này là hàm Trung bình của sai biệt tuyệt đối (the mean absolute error (MAE)) \n",
        "dành cho mô hình rừng ngẫu nhiên (RandomForest).\n",
        "(https://en.wikipedia.org/wiki/Mean_absolute_error) \n",
        "\"\"\"\n",
        "\n",
        "\n",
        "from sklearn.ensemble import RandomForestRegressor\n",
        "from sklearn.metrics import mean_absolute_error\n",
        "\n",
        "def score_dataset(X_train, X_valid, y_train, y_valid):\n",
        "    model = RandomForestRegressor(n_estimators=100, random_state=0)\n",
        "    model.fit(X_train, y_train)\n",
        "    preds = model.predict(X_valid)\n",
        "    return mean_absolute_error(y_valid, preds)"
      ]
    },
    {
      "cell_type": "code",
      "execution_count": 45,
      "metadata": {},
      "outputs": [
        {
          "name": "stdout",
          "output_type": "stream",
          "text": [
            "\n",
            "Drop columns with missing values:\t 17837.82570776256\n",
            "Imputation:\t\t\t\t 18062.894611872147\n",
            "An Extension to Imputation:\t\t 18148.417180365297\n",
            "\n",
            "Most accurate approach is \"Drop columns with missing values\"\n"
          ]
        }
      ],
      "source": [
        "\"\"\"Bước 3: \n",
        "    Trong các phương pháp xử lý dữ liệu bị thiếu bạn đã học,\n",
        "    phương pháp nào cho kết quả dự báo chính xác nhất.\n",
        "    Hãy cho biết giá trị MAE của từng mô hình.\n",
        "    \"\"\"\n",
        "\n",
        "print()\n",
        "\n",
        "\"\"\"Drop columns with missing values\n",
        "\"\"\"\n",
        "\n",
        "from sklearn.impute import SimpleImputer\n",
        "\n",
        "reduced_X_train = X_train.drop(cols_with_missing, axis=1)\n",
        "reduced_X_valid = X_valid.drop(cols_with_missing, axis=1)\n",
        "\n",
        "print(\n",
        "    \"Drop columns with missing values:\\t\",\n",
        "    score_dataset(reduced_X_train, reduced_X_valid, y_train, y_valid),\n",
        ")\n",
        "\n",
        "\"\"\"Imputation\n",
        "\"\"\"\n",
        "\n",
        "my_imputer = SimpleImputer()\n",
        "imputed_X_train = pd.DataFrame(my_imputer.fit_transform(X_train))\n",
        "imputed_X_valid = pd.DataFrame(my_imputer.transform(X_valid))\n",
        "imputed_X_train.columns = X_train.columns\n",
        "imputed_X_valid.columns = X_valid.columns\n",
        "\n",
        "print(\n",
        "    \"Imputation:\\t\\t\\t\\t\",\n",
        "    score_dataset(imputed_X_train, imputed_X_valid, y_train, y_valid),\n",
        ")\n",
        "\n",
        "\"\"\"Extension to Imputation\n",
        "\"\"\"\n",
        "\n",
        "X_train_plus = X_train.copy()\n",
        "X_valid_plus = X_valid.copy()\n",
        "\n",
        "for col in cols_with_missing:\n",
        "    X_train_plus[col + \"_was_missing\"] = X_train_plus[col].isnull()\n",
        "    X_valid_plus[col + \"_was_missing\"] = X_valid_plus[col].isnull()\n",
        "\n",
        "my_imputer = SimpleImputer()\n",
        "imputed_X_train_plus = pd.DataFrame(my_imputer.fit_transform(X_train_plus))\n",
        "imputed_X_valid_plus = pd.DataFrame(my_imputer.transform(X_valid_plus))\n",
        "imputed_X_train_plus.columns = X_train_plus.columns\n",
        "imputed_X_valid_plus.columns = X_valid_plus.columns\n",
        "\n",
        "print(\n",
        "    \"An Extension to Imputation:\\t\\t\",\n",
        "    score_dataset(imputed_X_train_plus, imputed_X_valid_plus, y_train, y_valid),\n",
        ")\n",
        "\n",
        "print('\\nMost accurate approach is \"Drop columns with missing values\"')"
      ]
    }
  ],
  "metadata": {
    "colab": {
      "provenance": []
    },
    "kernelspec": {
      "display_name": "Python 3",
      "name": "python3"
    },
    "language_info": {
      "codemirror_mode": {
        "name": "ipython",
        "version": 3
      },
      "file_extension": ".py",
      "mimetype": "text/x-python",
      "name": "python",
      "nbconvert_exporter": "python",
      "pygments_lexer": "ipython3",
      "version": "3.11.8"
    }
  },
  "nbformat": 4,
  "nbformat_minor": 0
}
