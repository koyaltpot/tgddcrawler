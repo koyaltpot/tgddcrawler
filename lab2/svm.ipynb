{
 "cells": [
  {
   "cell_type": "markdown",
   "metadata": {},
   "source": [
    "# Phân loại dữ liệu với máy học vector hỗ trợ (Support Vector Machine - SVM)"
   ]
  },
  {
   "cell_type": "markdown",
   "metadata": {},
   "source": [
    "## Câu 2"
   ]
  },
  {
   "cell_type": "code",
   "execution_count": 3,
   "metadata": {},
   "outputs": [
    {
     "name": "stdout",
     "output_type": "stream",
     "text": [
      "       Petal length  Petal Width  Sepal Length  Sepal Width\n",
      "count    150.000000   150.000000    150.000000   150.000000\n",
      "mean       5.843333     3.057333      3.758000     1.199333\n",
      "std        0.828066     0.435866      1.765298     0.762238\n",
      "min        4.300000     2.000000      1.000000     0.100000\n",
      "25%        5.100000     2.800000      1.600000     0.300000\n",
      "50%        5.800000     3.000000      4.350000     1.300000\n",
      "75%        6.400000     3.300000      5.100000     1.800000\n",
      "max        7.900000     4.400000      6.900000     2.500000\n",
      "\n",
      "\n",
      "Kiem tra xem du lieu co bi thieu (NULL) khong?\n",
      "Petal length    0\n",
      "Petal Width     0\n",
      "Sepal Length    0\n",
      "Sepal Width     0\n",
      "dtype: int64\n",
      "Do chinh xác cua mo hinh voi nghi thuc kiem tra chéo 5-fold: 96.667\n"
     ]
    }
   ],
   "source": [
    "# Nạp các gói thư viện cần thiết\n",
    "import pandas as pd\n",
    "from sklearn import svm\n",
    "from sklearn import datasets\n",
    "from sklearn.model_selection import cross_val_score\n",
    "\n",
    "# Đọc dữ liệu iris từ UCI (https://archive.ics.uci.edu/ml/datasets/Iris)\n",
    "# hoặc từ thư viện scikit-learn\n",
    "iris = datasets.load_iris()\n",
    "columns=[\"Petal length\",\"Petal Width\",\"Sepal Length\",\"Sepal Width\"]\n",
    "df = pd.DataFrame(iris.data, columns=columns)\n",
    "y = iris.target\n",
    "\n",
    "print(df.describe())\n",
    "print(\"\\n\")\n",
    "print(\"Kiem tra xem du lieu co bi thieu (NULL) khong?\")\n",
    "print(df.isnull().sum())\n",
    "\n",
    "# Xây dựng mô hình svm sử dụng hàm nhân (kernel) là RBF\n",
    "model = svm.SVC(kernel='rbf')\n",
    "\n",
    "# Sử dụng nghi thức kiểm tra chéo 5-fold\n",
    "scores = cross_val_score(model, df, y, cv=5)\n",
    "\n",
    "print(\"Do chinh xác cua mo hinh voi nghi thuc kiem tra chéo 5-fold: %.3f\" % (scores.mean()*100))\n"
   ]
  },
  {
   "cell_type": "markdown",
   "metadata": {},
   "source": [
    "## Câu 3"
   ]
  },
  {
   "cell_type": "code",
   "execution_count": 5,
   "metadata": {},
   "outputs": [
    {
     "name": "stdout",
     "output_type": "stream",
     "text": [
      "\n",
      "Dataset: Breast Cancer Wisconsin\n",
      "Do chinh xac cua mo hinh voi nghi thuc kiem tra chéo 5-fold, hàm nhân linear: 94.554\n",
      "Do chinh xac cua mo hinh voi nghi thuc kiem tra chéo 5-fold, hàm nhân poly: 90.866\n",
      "Do chinh xac cua mo hinh voi nghi thuc kiem tra chéo 5-fold, hàm nhân rbf: 91.217\n",
      "Do chinh xac cua mo hinh voi nghi thuc kiem tra chéo 5-fold, hàm nhân sigmoid: 46.044\n",
      "\n",
      "Dataset: Wine\n",
      "Do chinh xac cua mo hinh voi nghi thuc kiem tra chéo 5-fold, hàm nhân linear: 96.111\n",
      "Do chinh xac cua mo hinh voi nghi thuc kiem tra chéo 5-fold, hàm nhân poly: 65.222\n",
      "Do chinh xac cua mo hinh voi nghi thuc kiem tra chéo 5-fold, hàm nhân rbf: 66.349\n",
      "Do chinh xac cua mo hinh voi nghi thuc kiem tra chéo 5-fold, hàm nhân sigmoid: 16.381\n",
      "\n",
      "Dataset: Optical recognition of handwritten digits\n",
      "Do chinh xac cua mo hinh voi nghi thuc kiem tra chéo 5-fold, hàm nhân linear: 94.770\n",
      "Do chinh xac cua mo hinh voi nghi thuc kiem tra chéo 5-fold, hàm nhân poly: 97.051\n",
      "Do chinh xac cua mo hinh voi nghi thuc kiem tra chéo 5-fold, hàm nhân rbf: 96.328\n",
      "Do chinh xac cua mo hinh voi nghi thuc kiem tra chéo 5-fold, hàm nhân sigmoid: 88.038\n"
     ]
    }
   ],
   "source": [
    "from sklearn import datasets\n",
    "from sklearn.model_selection import cross_val_score\n",
    "from sklearn import svm\n",
    "\n",
    "# Danh sách các tập dữ liệu\n",
    "datasets_list = [datasets.load_breast_cancer(), datasets.load_wine(), datasets.load_digits()]\n",
    "dataset_names = [\"Breast Cancer Wisconsin\", \"Wine\", \"Optical recognition of handwritten digits\"]\n",
    "\n",
    "# Danh sách các hàm nhân\n",
    "kernels = ['linear', 'poly', 'rbf', 'sigmoid']\n",
    "\n",
    "for dataset, name in zip(datasets_list, dataset_names):\n",
    "    X = dataset.data\n",
    "    y = dataset.target\n",
    "    print(f\"\\nDataset: {name}\")\n",
    "    for kernel in kernels:\n",
    "        model = svm.SVC(kernel=kernel)\n",
    "        scores = cross_val_score(model, X, y, cv=5)\n",
    "        print(f\"Do chinh xac cua mo hinh voi nghi thuc kiem tra chéo 5-fold, hàm nhân {kernel}: %.3f\" % (scores.mean()*100))\n"
   ]
  }
 ],
 "metadata": {
  "kernelspec": {
   "display_name": "Python 3",
   "language": "python",
   "name": "python3"
  },
  "language_info": {
   "codemirror_mode": {
    "name": "ipython",
    "version": 3
   },
   "file_extension": ".py",
   "mimetype": "text/x-python",
   "name": "python",
   "nbconvert_exporter": "python",
   "pygments_lexer": "ipython3",
   "version": "3.12.1"
  }
 },
 "nbformat": 4,
 "nbformat_minor": 2
}
